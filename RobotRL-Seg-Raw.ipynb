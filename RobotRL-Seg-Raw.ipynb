{
 "cells": [
  {
   "cell_type": "code",
   "execution_count": 1,
   "metadata": {},
   "outputs": [],
   "source": [
    "import socket\n",
    "import sys\n",
    "import cv2\n",
    "import numpy as np\n",
    "import struct\n",
    "import argparse\n",
    "import math\n",
    "import random\n",
    "import json\n",
    "import datetime\n",
    "from collections import namedtuple\n",
    "\n",
    "import torch\n",
    "import torch.optim as optim\n",
    "\n",
    "import DQN\n",
    "from Enet import ENet\n",
    "import utils_socket\n",
    "import utils_obs\n",
    "from os import listdir\n",
    "import matplotlib.pyplot as plt\n",
    "from PIL import Image\n",
    "from PIL import ImageOps\n",
    "from matplotlib.pyplot import imshow\n"
   ]
  },
  {
   "cell_type": "code",
   "execution_count": 2,
   "metadata": {},
   "outputs": [],
   "source": [
    "class Args:\n",
    "    model_direc = \"./Model/\"\n",
    "    interruption_direc = \"./Interruption/\"\n",
    "    obs_mode = 1  #0: raw image,  1: processed_img,  2: segmentation image\n",
    "    total_steps = 10000\n",
    "    lr = 0.0005\n",
    "    batch_size = 32\n",
    "    grad_clamp = 1\n",
    "    steering  = [1400,1425,1450,1500,1550,1570,1600]  #steering for severn actions\n",
    "    EPS_START = 0.9\n",
    "    EPS_END = 0.05\n",
    "    EPS_DECAY = 50\n",
    "args = Args()\n",
    "\n",
    "def send_action(step, action, socket):\n",
    "    socket.send(struct.pack(\">i\", step))\n",
    "    socket.send(struct.pack(\">i\", args.steering[action]))       \n",
    "\n",
    "def select_action(steps_done, state, args, model):\n",
    "    sample = random.random()\n",
    "    eps_threshold = args.EPS_END + (args.EPS_START - args.EPS_END) * math.exp(-1. * steps_done / args.EPS_DECAY)\n",
    "    if sample > eps_threshold:\n",
    "        with torch.no_grad():\n",
    "            state = torch.from_numpy(state).float().unsqueeze(0)\n",
    "            return model(state).max(1)[1][0].item()\n",
    "    else:\n",
    "        return random.randrange(7)\n",
    "\n",
    "def get_model_obs(img, semantic_img, mode):\n",
    "    if mode == 0:\n",
    "        obs = cv2.resize(img, (80,60))/255\n",
    "        return np.transpose(obs, (2,0,1))  # 3x60x80\n",
    "    else:\n",
    "        obs = (cv2.resize(semantic_img, (80,60))/255/2+0.25)\n",
    "        return np.stack([obs, obs, obs], axis=0)  # 3x60x80 "
   ]
  },
  {
   "cell_type": "code",
   "execution_count": 3,
   "metadata": {},
   "outputs": [],
   "source": [
    "# start\n",
    "interrupted = False\n",
    "steps_done = 0\n",
    "steps_todo = 4000"
   ]
  },
  {
   "cell_type": "code",
   "execution_count": 4,
   "metadata": {},
   "outputs": [],
   "source": [
    "# initializations\n",
    "# helpers \n",
    "seg_model_path = \"/Users/karl/Documents/Notebooks/RobotRL/segmodel/seg_model2.0\"\n",
    "enet = ENet(2)\n",
    "enet.eval()\n",
    "enet.load_state_dict(torch.load(seg_model_path, map_location='cpu'))\n",
    "# img_processor = utils_obs.ImgProcessor()\n",
    "rewarder = utils_obs.Rewarder(320,240)\n",
    "imgs_log = {}\n",
    "sonars_log = {}\n",
    "Transition = namedtuple('Transition', 'state action next_state reward')\n",
    "\n",
    "# memory\n",
    "memory = DQN.ReplayMemory(1000)\n",
    "# model\n",
    "policy_dqn = DQN.DQN()\n",
    "with torch.no_grad():\n",
    "    target_dqn = DQN.DQN()\n",
    "    target_dqn.load_state_dict(policy_dqn.state_dict())\n",
    "\n",
    "torch.save(policy_dqn.state_dict(), \"./Model_raw/0.pt\")\n",
    "\n",
    "# agent\n",
    "agent = DQN.Agent(policy_dqn, target_dqn, args.lr, args.batch_size, args.grad_clamp)\n",
    "# rewards\n",
    "rewards = {}\n",
    "\n",
    "# # recover from interruption\n",
    "# if interrupted:\n",
    "#     policy_dqn.load_state_dict(torch.load(args.interruption_direc+str(step)+\"policy.model\"))\n",
    "#     target_dqn.load_state_dict(torch.load(args.interruption_direc+str(step)+\"target.model\"))\n",
    "#     memory = torch.load(args.interruption_direc+str(step)+\".memory\")"
   ]
  },
  {
   "cell_type": "code",
   "execution_count": 5,
   "metadata": {},
   "outputs": [
    {
     "data": {
      "text/plain": [
       "4"
      ]
     },
     "execution_count": 5,
     "metadata": {},
     "output_type": "execute_result"
    }
   ],
   "source": [
    "# connect to agent\n",
    "ip_port = ('192.168.43.1', 21111)\n",
    "s = socket.socket(socket.AF_INET, socket.SOCK_STREAM)\n",
    "s.connect(ip_port)\n",
    "# send password\n",
    "string = \"111\"\n",
    "s.send(string.encode())\n",
    "# send speed and step\n",
    "s.send(struct.pack(\">I\", 1700))\n",
    "s.send(struct.pack(\">I\", steps_done))\n",
    "s.send(struct.pack(\">I\", 1600))  # tilt\n",
    "s.send(struct.pack(\">I\", 600))  # period"
   ]
  },
  {
   "cell_type": "code",
   "execution_count": 89,
   "metadata": {},
   "outputs": [
    {
     "name": "stdout",
     "output_type": "stream",
     "text": [
      "start\n",
      "1038\n"
     ]
    }
   ],
   "source": [
    "########### Train ##############\n",
    "\n",
    "# reset\n",
    "sonars, img = utils_socket.get_obs_rgb(s)  #img: RGB\n",
    "sonars = (10,10,10)\n",
    "enet_input = torch.from_numpy(np.transpose(img, (2,0,1))).unsqueeze(0).float()/255\n",
    "semantic_obs = (enet(enet_input).squeeze(0).argmax(0)*255).numpy().astype(np.uint8)\n",
    "obs = get_model_obs(img, semantic_obs, 0)\n",
    "imgs_log[steps_done] = img\n",
    "sonars_log[steps_done] = sonars\n",
    "print(\"start\")\n",
    "\n",
    "while(steps_done < steps_todo):\n",
    "    # select actions\n",
    "    action = select_action(steps_done, obs, args, policy_dqn)\n",
    "    send_action(steps_done, action, s)\n",
    " \n",
    "    # delay training to save time\n",
    "    agent.update(memory)\n",
    "    \n",
    "    # get next state and reward\n",
    "    sonars, img = utils_socket.get_obs_rgb(s)\n",
    "    sonars = (10,10,10)\n",
    "#     processed_img = img_processor.process_img(img)\n",
    "#     obs_next = get_model_obs(img, processed_img, args.obs_mode)\n",
    "    enet_input = torch.from_numpy(np.transpose(img, (2,0,1))).unsqueeze(0).float()/255\n",
    "    semantic_obs = (enet(enet_input).squeeze(0).argmax(0)*255).numpy().astype(np.uint8)\n",
    "    reward = rewarder.reward(semantic_obs, sonars)\n",
    "    obs_next = get_model_obs(img, semantic_obs, 0)\n",
    "\n",
    "    rewards[steps_done] = reward\n",
    "    done = True if reward < 0 else False\n",
    "    if done:\n",
    "        obs_next = None\n",
    "    \n",
    "    steps_done += 1\n",
    "\n",
    "    # save transition to memory\n",
    "    memory.push(obs, action, obs_next, reward)\n",
    "    \n",
    "    obs = obs_next\n",
    "    \n",
    "    # save data\n",
    "    if reward < 0:\n",
    "        imgs_log[-steps_done] = img\n",
    "        sonars_log[-steps_done] = sonars\n",
    "    else:\n",
    "        imgs_log[steps_done] = img\n",
    "        sonars_log[steps_done] = sonars\n",
    "        \n",
    "    if(steps_done % 50 == 0):\n",
    "        # save experiences\n",
    "        saver = utils_obs.Saver(\"./Record_raw/\"+str(steps_done)+\".txt\", imgs_log.copy(), sonars_log.copy())\n",
    "        saver.start()\n",
    "        imgs_log.clear()\n",
    "        sonars_log.clear()\n",
    "        # save model\n",
    "        torch.save(policy_dqn.state_dict(), \"./Model_raw/\"+str(steps_done)+\".pt\")\n",
    "        # synchronize\n",
    "        target_dqn.load_state_dict(policy_dqn.state_dict())\n",
    "    \n",
    "    #stop to reset the robot\n",
    "    if done:\n",
    "        print(steps_done)\n",
    "        break\n"
   ]
  },
  {
   "cell_type": "code",
   "execution_count": 88,
   "metadata": {},
   "outputs": [],
   "source": [
    "send_action(-1, 3, s)  #ask robot to resend image\n",
    "with open(\"./Record_raw/reward.txt\", \"w\") as f:\n",
    "    json.dump(rewards, f)"
   ]
  },
  {
   "cell_type": "code",
   "execution_count": null,
   "metadata": {},
   "outputs": [],
   "source": [
    "def show(imgs):\n",
    "    cv2.startWindowThread()\n",
    "    for i in range(len(imgs)):\n",
    "        cv2.imshow('image'+str(i),imgs[i])\n",
    "    cv2.waitKey(0)\n",
    "    cv2.destroyAllWindows()"
   ]
  },
  {
   "cell_type": "code",
   "execution_count": null,
   "metadata": {},
   "outputs": [],
   "source": [
    "# save checkpoints\n",
    "ckp = {}\n",
    "ckp['policy'] = policy_dqn.state_dict()\n",
    "ckp['target'] = target_dqn.state_dict()\n",
    "ckp['steps_done'] = steps_done\n",
    "ckp['memory'] = memory\n",
    "ckp['rewards'] = rewards\n",
    "torch.save(ckp,\"Interruption/ckp\")"
   ]
  },
  {
   "cell_type": "code",
   "execution_count": null,
   "metadata": {},
   "outputs": [],
   "source": [
    "# For Test\n",
    "steps_done = 0\n",
    "# connect to agent\n",
    "ip_port = ('192.168.43.1', 21111)\n",
    "s = socket.socket(socket.AF_INET, socket.SOCK_STREAM)\n",
    "s.connect(ip_port)\n",
    "# send password\n",
    "string = \"111\"\n",
    "s.send(string.encode())\n",
    "# send speed and step\n",
    "s.send(struct.pack(\">I\", 1700))\n",
    "s.send(struct.pack(\">I\", steps_done))\n",
    "s.send(struct.pack(\">I\", 1600))  # tilt\n",
    "s.send(struct.pack(\">I\", 600))  # period"
   ]
  },
  {
   "cell_type": "code",
   "execution_count": null,
   "metadata": {},
   "outputs": [],
   "source": [
    "# Test observation and reward\n",
    "sonars, img = utils_socket.get_obs_rgb(s)  #img: RGB\n",
    "enet_input = torch.from_numpy(np.transpose(img, (2,0,1))).unsqueeze(0).float()/255\n",
    "obs = cv2.resize((enet(enet_input).squeeze(0).argmax(0)*255).numpy().astype(np.uint8), (80,60))\n",
    "obs = ((obs > 128)*255).astype(np.uint8)\n",
    "reward = rewarder.reward(obs, sonars)\n",
    "print(reward)\n",
    "s.send(struct.pack(\">i\", steps_done))\n",
    "s.send(struct.pack(\">i\", 1400)) \n",
    "steps_done += 1"
   ]
  },
  {
   "cell_type": "code",
   "execution_count": null,
   "metadata": {},
   "outputs": [],
   "source": [
    "# Test actions"
   ]
  },
  {
   "cell_type": "code",
   "execution_count": null,
   "metadata": {},
   "outputs": [],
   "source": [
    "Image.fromarray(img).show()"
   ]
  },
  {
   "cell_type": "code",
   "execution_count": 42,
   "metadata": {},
   "outputs": [],
   "source": [
    "test = imgs_log[-64]"
   ]
  },
  {
   "cell_type": "code",
   "execution_count": 43,
   "metadata": {},
   "outputs": [
    {
     "data": {
      "text/plain": [
       "(240, 320, 3)"
      ]
     },
     "execution_count": 43,
     "metadata": {},
     "output_type": "execute_result"
    }
   ],
   "source": [
    "test.shape"
   ]
  },
  {
   "cell_type": "code",
   "execution_count": 44,
   "metadata": {},
   "outputs": [],
   "source": [
    "enet_input = torch.from_numpy(np.transpose(test, (2,0,1))).unsqueeze(0).float()/255\n",
    "a = (enet(enet_input).squeeze(0).argmax(0)*255).numpy().astype(np.uint8)"
   ]
  },
  {
   "cell_type": "code",
   "execution_count": 45,
   "metadata": {},
   "outputs": [],
   "source": [
    "tosave = Image.fromarray(a)"
   ]
  },
  {
   "cell_type": "code",
   "execution_count": 46,
   "metadata": {},
   "outputs": [],
   "source": [
    "tosave.show()"
   ]
  },
  {
   "cell_type": "code",
   "execution_count": 47,
   "metadata": {},
   "outputs": [],
   "source": [
    "Image.fromarray(test).show()"
   ]
  },
  {
   "cell_type": "code",
   "execution_count": null,
   "metadata": {},
   "outputs": [],
   "source": [
    "Image.fromarray(np.transpose((memory.memory[701].state*255).astype(np.uint8),(1,2,0))).show()"
   ]
  },
  {
   "cell_type": "code",
   "execution_count": null,
   "metadata": {},
   "outputs": [],
   "source": [
    "EPS_START = 0.9\n",
    "EPS_END = 0.05\n",
    "EPS_DECAY = 100\n",
    "x = range(2000)\n",
    "y = []\n",
    "for i in x:\n",
    "    y.append(EPS_END + (EPS_START - EPS_END) * math.exp(-1. * i / EPS_DECAY))"
   ]
  },
  {
   "cell_type": "code",
   "execution_count": 91,
   "metadata": {},
   "outputs": [
    {
     "data": {
      "text/plain": [
       "38"
      ]
     },
     "execution_count": 91,
     "metadata": {},
     "output_type": "execute_result"
    }
   ],
   "source": [
    "len(imgs_log)"
   ]
  },
  {
   "cell_type": "code",
   "execution_count": null,
   "metadata": {},
   "outputs": [],
   "source": []
  }
 ],
 "metadata": {
  "kernelspec": {
   "display_name": "Python 3",
   "language": "python",
   "name": "python3"
  },
  "language_info": {
   "codemirror_mode": {
    "name": "ipython",
    "version": 3
   },
   "file_extension": ".py",
   "mimetype": "text/x-python",
   "name": "python",
   "nbconvert_exporter": "python",
   "pygments_lexer": "ipython3",
   "version": "3.6.4"
  }
 },
 "nbformat": 4,
 "nbformat_minor": 2
}
