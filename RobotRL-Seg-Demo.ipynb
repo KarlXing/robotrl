{
 "cells": [
  {
   "cell_type": "code",
   "execution_count": 2,
   "metadata": {},
   "outputs": [],
   "source": [
    "import socket\n",
    "import sys\n",
    "import cv2\n",
    "import numpy as np\n",
    "import struct\n",
    "import argparse\n",
    "import math\n",
    "import random\n",
    "import json\n",
    "import datetime\n",
    "from collections import namedtuple\n",
    "\n",
    "import torch\n",
    "import torch.optim as optim\n",
    "\n",
    "import DQN\n",
    "from Enet import ENet\n",
    "import utils_socket\n",
    "import utils_obs\n",
    "from os import listdir\n",
    "import matplotlib.pyplot as plt\n",
    "from PIL import Image\n"
   ]
  },
  {
   "cell_type": "code",
   "execution_count": 3,
   "metadata": {},
   "outputs": [],
   "source": [
    "class Args:\n",
    "    model_direc = \"./Model/\"\n",
    "    interruption_direc = \"./Interruption/\"\n",
    "    obs_mode = 1  #0: raw image,  1: processed_img,  2: segmentation image\n",
    "    total_steps = 10000\n",
    "    lr = 0.0005\n",
    "    batch_size = 32\n",
    "    grad_clamp = 1\n",
    "    steering  = [1400,1425,1450,1500,1550,1570,1600]  #steering for severn actions\n",
    "    EPS_START = 0.9\n",
    "    EPS_END = 0.05\n",
    "    EPS_DECAY = 50\n",
    "args = Args()\n",
    "\n",
    "def send_action(step, action, socket):\n",
    "    socket.send(struct.pack(\">i\", step))\n",
    "    socket.send(struct.pack(\">i\", args.steering[action]))       \n",
    "\n",
    "def select_action(steps_done, state, args, model):\n",
    "    sample = random.random()\n",
    "    eps_threshold = args.EPS_END + (args.EPS_START - args.EPS_END) * math.exp(-1. * steps_done / args.EPS_DECAY)\n",
    "    if sample > eps_threshold:\n",
    "        with torch.no_grad():\n",
    "            state = torch.from_numpy(state).float().unsqueeze(0)\n",
    "            return model(state).max(1)[1][0].item()\n",
    "    else:\n",
    "        return random.randrange(7)\n",
    "    \n",
    "def select_action_determine(state, model):\n",
    "    with torch.no_grad():\n",
    "        state = torch.from_numpy(state).float().unsqueeze(0)\n",
    "        return model(state).max(1)[1][0].item()    \n",
    "\n",
    "def get_model_obs(img, semantic_img, mode):\n",
    "    if mode == 0:\n",
    "        obs = cv2.resize(img, (80,60))/255\n",
    "        return np.transpose(obs, (2,0,1))  # 3x60x80\n",
    "    else:\n",
    "        obs = (cv2.resize(semantic_img, (80,60))/255)\n",
    "        return np.stack([obs, obs, obs], axis=0)  # 3x60x80    "
   ]
  },
  {
   "cell_type": "code",
   "execution_count": 136,
   "metadata": {},
   "outputs": [],
   "source": [
    "# start\n",
    "interrupted = False\n",
    "steps_done = 0\n",
    "steps_todo = 4000"
   ]
  },
  {
   "cell_type": "code",
   "execution_count": 4,
   "metadata": {},
   "outputs": [],
   "source": [
    "# initializations\n",
    "# helpers \n",
    "seg_model_path = \"/Users/karl/Documents/Notebooks/RobotRL/segmodel/seg_model3.0\"\n",
    "enet = ENet(2)\n",
    "enet.eval()\n",
    "enet.load_state_dict(torch.load(seg_model_path, map_location='cpu'))\n",
    "\n",
    "# model\n",
    "model_path = \"/Users/karl/Documents/Notebooks/RobotRL/Model_raw/1000.pt\"\n",
    "\n",
    "policy_dqn = DQN.DQN()\n",
    "policy_dqn.load_state_dict(torch.load(model_path))\n"
   ]
  },
  {
   "cell_type": "code",
   "execution_count": 162,
   "metadata": {},
   "outputs": [
    {
     "data": {
      "text/plain": [
       "4"
      ]
     },
     "execution_count": 162,
     "metadata": {},
     "output_type": "execute_result"
    }
   ],
   "source": [
    "# connect to agent\n",
    "ip_port = ('192.168.43.1', 21111)\n",
    "s = socket.socket(socket.AF_INET, socket.SOCK_STREAM)\n",
    "s.connect(ip_port)\n",
    "# send password\n",
    "string = \"111\"\n",
    "s.send(string.encode())\n",
    "# send speed and step\n",
    "s.send(struct.pack(\">I\", 1700))\n",
    "s.send(struct.pack(\">I\", steps_done))\n",
    "s.send(struct.pack(\">I\", 1600))  # tilt\n",
    "s.send(struct.pack(\">I\", 600))  # period"
   ]
  },
  {
   "cell_type": "code",
   "execution_count": 5,
   "metadata": {},
   "outputs": [],
   "source": [
    "img = np.asarray(Image.open(\"/Users/karl/Desktop/test_sfm/28.png\"))"
   ]
  },
  {
   "cell_type": "code",
   "execution_count": 25,
   "metadata": {},
   "outputs": [
    {
     "name": "stdout",
     "output_type": "stream",
     "text": [
      "0:00:00.969905\n"
     ]
    }
   ],
   "source": [
    "start = datetime.datetime.now()\n",
    "enet_input = torch.from_numpy(np.transpose(img, (2,0,1))).unsqueeze(0).float()/255\n",
    "semantic_obs = (enet(enet_input).squeeze(0).argmax(0)*255).numpy().astype(np.uint8)\n",
    "obs = get_model_obs(img, semantic_obs, 1)\n",
    "action = select_action_determine(obs, policy_dqn)\n",
    "end = datetime.datetime.now()\n",
    "print(end-start)"
   ]
  },
  {
   "cell_type": "code",
   "execution_count": 324,
   "metadata": {},
   "outputs": [
    {
     "name": "stdout",
     "output_type": "stream",
     "text": [
      "start\n",
      "1183\n"
     ]
    }
   ],
   "source": [
    "########### Train ##############\n",
    "\n",
    "# reset\n",
    "sonars, img = utils_socket.get_obs_rgb(s)  #img: RGB\n",
    "enet_input = torch.from_numpy(np.transpose(img, (2,0,1))).unsqueeze(0).float()/255\n",
    "semantic_obs = (enet(enet_input).squeeze(0).argmax(0)*255).numpy().astype(np.uint8)\n",
    "obs = get_model_obs(img, semantic_obs, 1)\n",
    "\n",
    "print(\"start\")\n",
    "while(steps_done < steps_todo):\n",
    "    # select actions\n",
    "    action = select_action_determine(obs, policy_dqn)\n",
    "    send_action(steps_done, action, s)\n",
    "    # get next state and reward\n",
    "    sonars, img = utils_socket.get_obs_rgb(s)\n",
    "    enet_input = torch.from_numpy(np.transpose(img, (2,0,1))).unsqueeze(0).float()/255\n",
    "    semantic_obs = (enet(enet_input).squeeze(0).argmax(0)*255).numpy().astype(np.uint8)\n",
    "    obs_next = get_model_obs(img, semantic_obs, 1)\n",
    "    \n",
    "    steps_done += 1\n",
    "    \n",
    "    obs = obs_next"
   ]
  },
  {
   "cell_type": "code",
   "execution_count": 323,
   "metadata": {},
   "outputs": [],
   "source": [
    "send_action(-1, 3, s)  #ask robot to resend image\n",
    "with open(\"./Record/reward.txt\", \"w\") as f:\n",
    "    json.dump(rewards, f)"
   ]
  },
  {
   "cell_type": "code",
   "execution_count": 203,
   "metadata": {},
   "outputs": [],
   "source": [
    "def show(imgs):\n",
    "    cv2.startWindowThread()\n",
    "    for i in range(len(imgs)):\n",
    "        cv2.imshow('image'+str(i),imgs[i])\n",
    "    cv2.waitKey(0)\n",
    "    cv2.destroyAllWindows()"
   ]
  },
  {
   "cell_type": "code",
   "execution_count": 90,
   "metadata": {},
   "outputs": [],
   "source": [
    "# save checkpoints\n",
    "ckp = {}\n",
    "ckp['policy'] = policy_dqn.state_dict()\n",
    "ckp['target'] = target_dqn.state_dict()\n",
    "ckp['steps_done'] = steps_done\n",
    "ckp['memory'] = memory\n",
    "ckp['rewards'] = rewards\n",
    "torch.save(ckp,\"Interruption/ckp\")"
   ]
  },
  {
   "cell_type": "code",
   "execution_count": 32,
   "metadata": {},
   "outputs": [
    {
     "data": {
      "text/plain": [
       "4"
      ]
     },
     "execution_count": 32,
     "metadata": {},
     "output_type": "execute_result"
    }
   ],
   "source": [
    "# For Test\n",
    "steps_done = 0\n",
    "# connect to agent\n",
    "ip_port = ('192.168.43.1', 21111)\n",
    "s = socket.socket(socket.AF_INET, socket.SOCK_STREAM)\n",
    "s.connect(ip_port)\n",
    "# send password\n",
    "string = \"111\"\n",
    "s.send(string.encode())\n",
    "# send speed and step\n",
    "s.send(struct.pack(\">I\", 1700))\n",
    "s.send(struct.pack(\">I\", steps_done))\n",
    "s.send(struct.pack(\">I\", 1600))  # tilt\n",
    "s.send(struct.pack(\">I\", 600))  # period"
   ]
  },
  {
   "cell_type": "code",
   "execution_count": 114,
   "metadata": {},
   "outputs": [
    {
     "name": "stdout",
     "output_type": "stream",
     "text": [
      "0.5\n"
     ]
    }
   ],
   "source": [
    "# Test observation and reward\n",
    "sonars, img = utils_socket.get_obs_rgb(s)  #img: RGB\n",
    "enet_input = torch.from_numpy(np.transpose(img, (2,0,1))).unsqueeze(0).float()/255\n",
    "obs = cv2.resize((enet(enet_input).squeeze(0).argmax(0)*255).numpy().astype(np.uint8), (80,60))\n",
    "obs = ((obs > 128)*255).astype(np.uint8)\n",
    "reward = rewarder.reward(obs, sonars)\n",
    "print(reward)\n",
    "s.send(struct.pack(\">i\", steps_done))\n",
    "s.send(struct.pack(\">i\", 1400)) \n",
    "steps_done += 1"
   ]
  },
  {
   "cell_type": "code",
   "execution_count": 76,
   "metadata": {},
   "outputs": [],
   "source": [
    "# Test actions"
   ]
  },
  {
   "cell_type": "code",
   "execution_count": 119,
   "metadata": {},
   "outputs": [],
   "source": [
    "Image.fromarray(img).show()"
   ]
  },
  {
   "cell_type": "code",
   "execution_count": 139,
   "metadata": {},
   "outputs": [
    {
     "data": {
      "text/plain": [
       "0"
      ]
     },
     "execution_count": 139,
     "metadata": {},
     "output_type": "execute_result"
    }
   ],
   "source": [
    "len(memory.memory)"
   ]
  },
  {
   "cell_type": "code",
   "execution_count": 291,
   "metadata": {},
   "outputs": [],
   "source": [
    "img = np.asarray(Image.open(\"/Users/karl/Downloads/aaa/2.png\"))\n",
    "test = imgs_log[-885]"
   ]
  },
  {
   "cell_type": "code",
   "execution_count": 292,
   "metadata": {},
   "outputs": [],
   "source": [
    "enet_input = torch.from_numpy(np.transpose(test, (2,0,1))).unsqueeze(0).float()/255\n",
    "a = cv2.resize((enet(enet_input).squeeze(0).argmax(0)*255).numpy().astype(np.uint8), (80,60))"
   ]
  },
  {
   "cell_type": "code",
   "execution_count": 293,
   "metadata": {},
   "outputs": [],
   "source": [
    "tosave = Image.fromarray(a)"
   ]
  },
  {
   "cell_type": "code",
   "execution_count": 294,
   "metadata": {},
   "outputs": [],
   "source": [
    "tosave.show()"
   ]
  },
  {
   "cell_type": "code",
   "execution_count": 277,
   "metadata": {},
   "outputs": [],
   "source": [
    "Image.fromarray(test).show()"
   ]
  },
  {
   "cell_type": "code",
   "execution_count": null,
   "metadata": {},
   "outputs": [],
   "source": []
  }
 ],
 "metadata": {
  "kernelspec": {
   "display_name": "Python 3",
   "language": "python",
   "name": "python3"
  },
  "language_info": {
   "codemirror_mode": {
    "name": "ipython",
    "version": 3
   },
   "file_extension": ".py",
   "mimetype": "text/x-python",
   "name": "python",
   "nbconvert_exporter": "python",
   "pygments_lexer": "ipython3",
   "version": "3.6.4"
  }
 },
 "nbformat": 4,
 "nbformat_minor": 2
}
