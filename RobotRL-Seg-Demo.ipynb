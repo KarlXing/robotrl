{
 "cells": [
  {
   "cell_type": "code",
   "execution_count": null,
   "metadata": {},
   "outputs": [],
   "source": [
    "import socket\n",
    "import sys\n",
    "import cv2\n",
    "import numpy as np\n",
    "import struct\n",
    "import argparse\n",
    "import math\n",
    "import random\n",
    "import json\n",
    "import datetime\n",
    "from collections import namedtuple\n",
    "\n",
    "import torch\n",
    "import torch.optim as optim\n",
    "from tqdm import tqdm_notebook\n",
    "from tqdm import tqdm\n",
    "\n",
    "import DQN\n",
    "from Enet import ENet\n",
    "import utils_socket\n",
    "import utils_obs\n",
    "from os import listdir\n",
    "import matplotlib.pyplot as plt\n",
    "from PIL import Image\n",
    "import time\n"
   ]
  },
  {
   "cell_type": "code",
   "execution_count": null,
   "metadata": {},
   "outputs": [],
   "source": [
    "class Args:\n",
    "    model_direc = \"./Model/\"\n",
    "    interruption_direc = \"./Interruption/\"\n",
    "    obs_mode = 1  #0: raw image,  1: processed_img,  2: segmentation image\n",
    "    total_steps = 10000\n",
    "    lr = 0.0005\n",
    "    batch_size = 32\n",
    "    grad_clamp = 1\n",
    "    steering  = [1425,1450,1475,1500,1525,1550,1575]  #steering for severn actions\n",
    "    EPS_START = 0.9\n",
    "    EPS_END = 0.05\n",
    "    EPS_DECAY = 50\n",
    "args = Args()\n",
    "\n",
    "def send_action(step, action, socket):\n",
    "    socket.send(struct.pack(\">i\", step))\n",
    "    socket.send(struct.pack(\">i\", args.steering[action]))       \n",
    "\n",
    "def select_action(steps_done, state, args, model):\n",
    "    sample = random.random()\n",
    "    eps_threshold = args.EPS_END + (args.EPS_START - args.EPS_END) * math.exp(-1. * steps_done / args.EPS_DECAY)\n",
    "    if sample > eps_threshold:\n",
    "        with torch.no_grad():\n",
    "            state = torch.from_numpy(state).float().unsqueeze(0)\n",
    "            return model(state).max(1)[1][0].item()\n",
    "    else:\n",
    "        return random.randrange(7)\n",
    "    \n",
    "def select_action_determine(state, model):\n",
    "    with torch.no_grad():\n",
    "        state = torch.from_numpy(state).float().unsqueeze(0)\n",
    "        return model(state).max(1)[1][0].item()    \n",
    "\n",
    "def get_model_obs(img, semantic_img, mode):\n",
    "    if mode == 0:\n",
    "        obs = cv2.resize(img, (80,60))/255\n",
    "        return np.transpose(obs, (2,0,1))  # 3x60x80\n",
    "    else:\n",
    "        obs = (cv2.resize(semantic_img, (80,60))/255)\n",
    "        return np.stack([obs, obs, obs], axis=0)  # 3x60x80    "
   ]
  },
  {
   "cell_type": "code",
   "execution_count": null,
   "metadata": {},
   "outputs": [],
   "source": [
    "# start\n",
    "interrupted = False\n",
    "steps_done = 0\n",
    "steps_todo = 100000"
   ]
  },
  {
   "cell_type": "code",
   "execution_count": null,
   "metadata": {},
   "outputs": [],
   "source": [
    "# initializations\n",
    "# models \n",
    "seg_model_path = \"./segmodel/seg_model3.0\"\n",
    "enet = ENet(2)\n",
    "enet.eval()\n",
    "enet.load_state_dict(torch.load(seg_model_path))\n",
    "\n",
    "# model\n",
    "model_path = \"./policymodel/1700.pt\"\n",
    "\n",
    "policy_dqn = DQN.DQN()\n",
    "policy_dqn.load_state_dict(torch.load(model_path))\n",
    "\n",
    "rewarder = utils_obs.Rewarder(320,240)"
   ]
  },
  {
   "cell_type": "code",
   "execution_count": null,
   "metadata": {},
   "outputs": [],
   "source": [
    "device = torch.device(\"cuda:0\")\n",
    "enet = enet.to(device)\n",
    "enet.eval()\n",
    "policy_dqn = policy_dqn.to(device)\n",
    "policy_dqn.eval()"
   ]
  },
  {
   "cell_type": "code",
   "execution_count": null,
   "metadata": {},
   "outputs": [],
   "source": [
    "steps_done"
   ]
  },
  {
   "cell_type": "code",
   "execution_count": null,
   "metadata": {},
   "outputs": [],
   "source": [
    "# connect to agent\n",
    "#ip_port = ('169.234.117.60', 21111)\n",
    "ip_port = ('192.168.43.1', 21111)\n",
    "s = socket.socket(socket.AF_INET, socket.SOCK_STREAM)\n",
    "s.setsockopt(socket.IPPROTO_TCP, socket.TCP_NODELAY, 1)\n",
    "s.connect(ip_port)\n",
    "# send password\n",
    "string = \"111\"\n",
    "s.send(string.encode())\n",
    "# send speed and step\n",
    "s.send(struct.pack(\">I\", 1650))\n",
    "s.send(struct.pack(\">I\", steps_done))\n",
    "s.send(struct.pack(\">I\", 1500))  # tilt\n",
    "s.send(struct.pack(\">I\", 400))  # period"
   ]
  },
  {
   "cell_type": "code",
   "execution_count": null,
   "metadata": {},
   "outputs": [],
   "source": [
    "########### Train ##############\n",
    "\n",
    "# reset\n",
    "sonars, img = utils_socket.get_obs_rgb(s, 120, 160)  #img: RGB\n",
    "img = cv2.resize(img, (320,240))\n",
    "enet_input = (torch.from_numpy(np.transpose(img, (2,0,1))).unsqueeze(0).float()/255).to(device)\n",
    "semantic_obs = (enet(enet_input).squeeze(0).argmax(0)*255).cpu().numpy().astype(np.uint8)\n",
    "reward = rewarder.reward(semantic_obs, (10,10,10))\n",
    "obs = get_model_obs(img, semantic_obs, 1)\n",
    "obs = torch.from_numpy(obs).float().unsqueeze(0).to(device)\n",
    "\n",
    "print(\"start\")\n",
    "for i in range(steps_todo):\n",
    "    # select actions\n",
    "    print(i)\n",
    "    #print(1, time.time()*1000)\n",
    "    if reward > 0:\n",
    "        action = policy_dqn(obs).max(1)[1][0].item()\n",
    "    else:\n",
    "        action = 3\n",
    "    #action = select_action_determine(obs, policy_dqn)\n",
    "    #print(2, time.time()*1000)\n",
    "    send_action(steps_done, action, s)\n",
    "    # get next state and reward\n",
    "    #print(3, time.time()*1000)\n",
    "    sonars, img = utils_socket.get_obs_rgb(s, 120, 160)\n",
    "    img = cv2.resize(img, (320,240))\n",
    "    #print(4, time.time()*1000)\n",
    "    enet_input = (torch.from_numpy(np.transpose(img, (2,0,1))).unsqueeze(0).float()/255).to(device)\n",
    "    semantic_obs = (enet(enet_input).squeeze(0).argmax(0)*255).cpu().numpy().astype(np.uint8)\n",
    "    reward = rewarder.reward(semantic_obs, (10,10,10))\n",
    "    obs = get_model_obs(img, semantic_obs, 1)\n",
    "    obs = torch.from_numpy(obs).float().unsqueeze(0).to(device)\n",
    "    \n",
    "    steps_done += 1\n",
    "    "
   ]
  },
  {
   "cell_type": "code",
   "execution_count": null,
   "metadata": {},
   "outputs": [],
   "source": [
    "steps_done = 136"
   ]
  },
  {
   "cell_type": "code",
   "execution_count": null,
   "metadata": {},
   "outputs": [],
   "source": [
    "send_action(-1, 3, s)  #ask robot to resend image"
   ]
  },
  {
   "cell_type": "code",
   "execution_count": null,
   "metadata": {},
   "outputs": [],
   "source": [
    "def show(imgs):\n",
    "    cv2.startWindowThread()\n",
    "    for i in range(len(imgs)):\n",
    "        cv2.imshow('image'+str(i),imgs[i])\n",
    "    cv2.waitKey(0)\n",
    "    cv2.destroyAllWindows()"
   ]
  },
  {
   "cell_type": "code",
   "execution_count": null,
   "metadata": {},
   "outputs": [],
   "source": [
    "# Test observation and reward\n",
    "sonars, img = utils_socket.get_obs_rgb(s, 120, 160)  #img: RGB\n",
    "enet_input = torch.from_numpy(np.transpose(img, (2,0,1))).unsqueeze(0).float()/255\n",
    "obs = cv2.resize((enet(enet_input).squeeze(0).argmax(0)*255).numpy().astype(np.uint8), (80,60))\n",
    "obs = ((obs > 128)*255).astype(np.uint8)\n",
    "reward = rewarder.reward(obs, sonars)\n",
    "print(reward)\n",
    "s.send(struct.pack(\">i\", steps_done))\n",
    "s.send(struct.pack(\">i\", 1400)) \n",
    "steps_done += 1"
   ]
  },
  {
   "cell_type": "code",
   "execution_count": null,
   "metadata": {},
   "outputs": [],
   "source": [
    "# Test actions"
   ]
  },
  {
   "cell_type": "code",
   "execution_count": null,
   "metadata": {},
   "outputs": [],
   "source": [
    "img.shape"
   ]
  },
  {
   "cell_type": "code",
   "execution_count": null,
   "metadata": {},
   "outputs": [],
   "source": [
    "Image.fromarray(rimg).show()"
   ]
  }
 ],
 "metadata": {
  "kernelspec": {
   "display_name": "Python 3",
   "language": "python",
   "name": "python3"
  },
  "language_info": {
   "codemirror_mode": {
    "name": "ipython",
    "version": 3
   },
   "file_extension": ".py",
   "mimetype": "text/x-python",
   "name": "python",
   "nbconvert_exporter": "python",
   "pygments_lexer": "ipython3",
   "version": "3.5.2"
  }
 },
 "nbformat": 4,
 "nbformat_minor": 2
}
