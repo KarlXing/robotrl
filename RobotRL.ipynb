{
 "cells": [
  {
   "cell_type": "code",
   "execution_count": 6,
   "metadata": {},
   "outputs": [],
   "source": [
    "import socket\n",
    "import sys\n",
    "import cv2\n",
    "import numpy as np\n",
    "import struct\n",
    "import argparse\n",
    "import math\n",
    "import random\n",
    "import json\n",
    "import datetime\n",
    "from collections import namedtuple\n",
    "\n",
    "import torch\n",
    "import torch.optim as optim\n",
    "\n",
    "import DQN\n",
    "from Enet import ENet\n",
    "import utils_socket\n",
    "import utils_obs\n",
    "from os import listdir\n"
   ]
  },
  {
   "cell_type": "code",
   "execution_count": 2,
   "metadata": {},
   "outputs": [
    {
     "data": {
      "text/plain": [
       "<module 'DQN' from '/Users/karl/Documents/Notebooks/RobotRL/DQN.py'>"
      ]
     },
     "execution_count": 2,
     "metadata": {},
     "output_type": "execute_result"
    }
   ],
   "source": [
    "import importlib\n",
    "importlib.reload(utils_obs)\n",
    "importlib.reload(DQN)"
   ]
  },
  {
   "cell_type": "code",
   "execution_count": 3,
   "metadata": {},
   "outputs": [],
   "source": [
    "class Args:\n",
    "    model_direc = \"./Model/\"\n",
    "    interruption_direc = \"./Interruption/\"\n",
    "    obs_mode = 1  #0: raw image,  1: processed_img,  2: segmentation image\n",
    "    total_steps = 10000\n",
    "    lr = 0.005\n",
    "    batch_size = 32\n",
    "    grad_clamp = 1\n",
    "    EPS_START = 0.9\n",
    "    EPS_END = 0.05\n",
    "    EPS_DECAY = 50\n",
    "args = Args()\n",
    "\n",
    "def send_action(step, action, socket):\n",
    "    socket.send(struct.pack(\">i\", step))\n",
    "    socket.send(struct.pack(\">i\", int(1500+50*(action-3))))       \n",
    "\n",
    "def select_action(steps_done, state, args, model):\n",
    "    sample = random.random()\n",
    "    eps_threshold = args.EPS_END + (args.EPS_START - args.EPS_END) * math.exp(-1. * steps_done / args.EPS_DECAY)\n",
    "    if sample > eps_threshold:\n",
    "        with torch.no_grad():\n",
    "            state = torch.from_numpy(state).float().unsqueeze(0)\n",
    "            return model(state).max(1)[1][0].item()\n",
    "    else:\n",
    "        return random.randrange(7)\n",
    "\n",
    "def get_model_obs(img, processed_img, mode):\n",
    "    if mode == 0:\n",
    "        obs = cv2.resize(img, (80,60))/255\n",
    "        return np.transpose(obs, (2,0,1))  # 3x60x80\n",
    "    else:\n",
    "        obs = (cv2.resize(processed_img, (80,60))/255/2+0.25)\n",
    "        return np.stack([obs, obs, obs], axis=0)  # 3x60x80    "
   ]
  },
  {
   "cell_type": "code",
   "execution_count": 4,
   "metadata": {},
   "outputs": [],
   "source": [
    "# start\n",
    "interrupted = False\n",
    "steps_done = 0\n",
    "steps_todo = 10000"
   ]
  },
  {
   "cell_type": "code",
   "execution_count": 5,
   "metadata": {},
   "outputs": [],
   "source": [
    "# initializations\n",
    "# helpers \n",
    "img_processor = utils_obs.ImgProcessor()\n",
    "rewarder = utils_obs.Rewarder()\n",
    "imgs_log = {}\n",
    "sonars_log = {}\n",
    "Transition = namedtuple('Transition', 'state action next_state reward')\n",
    "\n",
    "# memory\n",
    "memory = DQN.ReplayMemory(1000)\n",
    "# model\n",
    "policy_dqn = DQN.DQN()\n",
    "with torch.no_grad():\n",
    "    target_dqn = DQN.DQN()\n",
    "    target_dqn.load_state_dict(policy_dqn.state_dict())\n",
    "# agent\n",
    "agent = DQN.Agent(policy_dqn, target_dqn, args.lr, args.batch_size, args.grad_clamp)\n",
    "# rewards\n",
    "rewards = {}\n",
    "\n",
    "# # recover from interruption\n",
    "# if interrupted:\n",
    "#     policy_dqn.load_state_dict(torch.load(args.interruption_direc+str(step)+\"policy.model\"))\n",
    "#     target_dqn.load_state_dict(torch.load(args.interruption_direc+str(step)+\"target.model\"))\n",
    "#     memory = torch.load(args.interruption_direc+str(step)+\".memory\")"
   ]
  },
  {
   "cell_type": "code",
   "execution_count": 6,
   "metadata": {},
   "outputs": [
    {
     "data": {
      "text/plain": [
       "4"
      ]
     },
     "execution_count": 6,
     "metadata": {},
     "output_type": "execute_result"
    }
   ],
   "source": [
    "# connect to agent\n",
    "ip_port = ('192.168.43.1', 21111)\n",
    "s = socket.socket(socket.AF_INET, socket.SOCK_STREAM)\n",
    "s.connect(ip_port)\n",
    "# send password\n",
    "string = \"111\"\n",
    "s.send(string.encode())\n",
    "# send speed and step\n",
    "s.send(struct.pack(\">I\", 1700))\n",
    "s.send(struct.pack(\">I\", steps_done))\n",
    "s.send(struct.pack(\">I\", 1600))  # tilt\n",
    "s.send(struct.pack(\">I\", 1000))  # period"
   ]
  },
  {
   "cell_type": "code",
   "execution_count": 101,
   "metadata": {},
   "outputs": [
    {
     "name": "stdout",
     "output_type": "stream",
     "text": [
      "start\n",
      "212\n"
     ]
    }
   ],
   "source": [
    "########### Train ##############\n",
    "\n",
    "# reset\n",
    "sonars, img = utils_socket.get_obs(s)  #img: BGR\n",
    "processed_img = img_processor.process_img(img)\n",
    "obs = get_model_obs(img, processed_img, args.obs_mode)\n",
    "imgs_log[steps_done] = img\n",
    "sonars_log[steps_done] = sonars\n",
    "# steps_todo = 3\n",
    "print(\"start\")\n",
    "while(steps_done < steps_todo):\n",
    "    # select actions\n",
    "    action = select_action(steps_done, obs, args, policy_dqn)\n",
    "    send_action(steps_done, action, s)\n",
    " \n",
    "    # delay training to save time\n",
    "    agent.update(memory)\n",
    "    \n",
    "    # get next state and reward\n",
    "    sonars, img = utils_socket.get_obs(s)\n",
    "    processed_img = img_processor.process_img(img)\n",
    "    obs_next = get_model_obs(img, processed_img, args.obs_mode)\n",
    "    reward = rewarder.reward(processed_img, sonars)\n",
    "    rewards[steps_done] = reward\n",
    "    done = True if reward < 0 else False\n",
    "    if done:\n",
    "        obs_next = None\n",
    "    \n",
    "    steps_done += 1\n",
    "\n",
    "    # save transition to memory\n",
    "    memory.push(obs, action, obs_next, reward)\n",
    "    \n",
    "\n",
    "    \n",
    "    # save data\n",
    "    if reward < 0:\n",
    "        imgs_log[-steps_done] = img\n",
    "        sonars_log[-steps_done] = sonars\n",
    "    else:\n",
    "        imgs_log[steps_done] = img\n",
    "        sonars_log[steps_done] = sonars\n",
    "        \n",
    "    if(steps_done % 50 == 0):\n",
    "        # save experiences\n",
    "        saver = utils_obs.Saver(\"./Record/\"+str(steps_done)+\".txt\", imgs_log.copy(), sonars_log.copy())\n",
    "        saver.start()\n",
    "        imgs_log.clear()\n",
    "        sonars_log.clear()\n",
    "        # save model\n",
    "        torch.save(policy_dqn.state_dict(), \"./Model/\"+str(steps_done)+\".pt\")\n",
    "        # synchronize\n",
    "        target_dqn.load_state_dict(policy_dqn.state_dict())\n",
    "    \n",
    "    #stop to reset the robot\n",
    "    if done:\n",
    "        print(steps_done)\n",
    "        break\n"
   ]
  },
  {
   "cell_type": "code",
   "execution_count": 100,
   "metadata": {},
   "outputs": [],
   "source": [
    "send_action(-1, 3, s)  #ask robot to resend image\n",
    "with open(\"./Record/reward.txt\", \"w\") as f:\n",
    "    json.dump(rewards, f)\n"
   ]
  },
  {
   "cell_type": "code",
   "execution_count": 66,
   "metadata": {},
   "outputs": [],
   "source": [
    "steps_done = 10"
   ]
  },
  {
   "cell_type": "code",
   "execution_count": 145,
   "metadata": {},
   "outputs": [
    {
     "name": "stdout",
     "output_type": "stream",
     "text": [
      "354195\n",
      "0.5\n"
     ]
    }
   ],
   "source": [
    "# Test rewarder\n",
    "importlib.reload(utils_obs)\n",
    "rewarder = utils_obs.Rewarder()\n",
    "img = cv2.imread(\"/Users/karl/Desktop/Pictures/1562621876378.jpg\",cv2.IMREAD_UNCHANGED)\n",
    "processed_img = img_processor.process_img(img)\n",
    "reward = rewarder.reward(processed_img, (10,10,10))\n",
    "print(reward)\n",
    "show([img, processed_img])"
   ]
  },
  {
   "cell_type": "code",
   "execution_count": 76,
   "metadata": {},
   "outputs": [],
   "source": [
    "# Test actions\n",
    "sonars, img = utils_socket.get_obs(s)  #img: BGR\n",
    "processed_img = img_processor.process_img(img)\n",
    "obs = get_model_obs(img, processed_img, args.obs_mode)\n",
    "imgs_log[steps_done] = img\n",
    "sonars_log[steps_done] = sonars"
   ]
  },
  {
   "cell_type": "code",
   "execution_count": 37,
   "metadata": {},
   "outputs": [
    {
     "data": {
      "text/plain": [
       "4"
      ]
     },
     "execution_count": 37,
     "metadata": {},
     "output_type": "execute_result"
    }
   ],
   "source": [
    "s.send(struct.pack(\">I\", steps_done))\n",
    "steps_done += 1\n",
    "s.send(struct.pack(\">I\", 1600))"
   ]
  },
  {
   "cell_type": "code",
   "execution_count": 103,
   "metadata": {},
   "outputs": [],
   "source": [
    "def show(imgs):\n",
    "    cv2.startWindowThread()\n",
    "    for i in range(len(imgs)):\n",
    "        cv2.imshow('image'+str(i),imgs[i])\n",
    "    cv2.waitKey(0)\n",
    "    cv2.destroyAllWindows()"
   ]
  },
  {
   "cell_type": "code",
   "execution_count": 104,
   "metadata": {},
   "outputs": [],
   "source": [
    "show([img])"
   ]
  },
  {
   "cell_type": "code",
   "execution_count": 105,
   "metadata": {},
   "outputs": [],
   "source": [
    "show([processed_img])"
   ]
  },
  {
   "cell_type": "code",
   "execution_count": 65,
   "metadata": {},
   "outputs": [
    {
     "data": {
      "text/plain": [
       "{0: 0.5,\n",
       " 1: -1.0,\n",
       " 2: 0.5,\n",
       " 3: -1.0,\n",
       " 4: 0.5,\n",
       " 5: -1.0,\n",
       " 6: 0.5,\n",
       " 7: 0.5,\n",
       " 8: 0.5,\n",
       " 9: -1.0,\n",
       " 10: 0.5}"
      ]
     },
     "execution_count": 65,
     "metadata": {},
     "output_type": "execute_result"
    }
   ],
   "source": [
    "rewards"
   ]
  },
  {
   "cell_type": "code",
   "execution_count": 71,
   "metadata": {},
   "outputs": [],
   "source": [
    "sonars, img = utils_socket.get_obs(s)  #img: BGR\n",
    "processed_img = img_processor.process_img(img)\n",
    "obs = get_model_obs(img, processed_img, args.obs_mode)\n",
    "imgs_log[steps_done] = img\n",
    "sonars_log[steps_done] = sonars"
   ]
  },
  {
   "cell_type": "code",
   "execution_count": 154,
   "metadata": {},
   "outputs": [],
   "source": [
    "model_path = \"/Users/karl/Documents/Notebooks/RobotRL/park_save/park_model\"\n",
    "ckp = torch.load(model_path, map_location='cpu')\n",
    "enet = ENet(2)\n",
    "enet.eval()\n",
    "enet.load_state_dict(ckp['state_dict'])\n",
    "torch.save(enet.state_dict(), \"/Users/karl/Documents/Notebooks/RobotRL/Model/seg_model\")"
   ]
  },
  {
   "cell_type": "code",
   "execution_count": 173,
   "metadata": {},
   "outputs": [],
   "source": [
    "model_path = \"/Users/karl/Documents/Notebooks/RobotRL/Model/seg_model\"\n",
    "enet = ENet(2)\n",
    "enet.eval()\n",
    "enet.load_state_dict(torch.load(model_path))"
   ]
  },
  {
   "cell_type": "code",
   "execution_count": 174,
   "metadata": {},
   "outputs": [],
   "source": [
    "from PIL import Image\n",
    "import datetime\n",
    "import torch.nn.functional as F"
   ]
  },
  {
   "cell_type": "code",
   "execution_count": 219,
   "metadata": {},
   "outputs": [],
   "source": [
    "resized_img = cv2.resize(np.array(Image.open(\"/Users/karl/Downloads/pics_2/1565560555722.jpg\")), (320,240))\n",
    "inputs = torch.from_numpy(np.transpose(resized_img, (2,0,1))).float()/255\n"
   ]
  },
  {
   "cell_type": "code",
   "execution_count": 220,
   "metadata": {},
   "outputs": [
    {
     "data": {
      "text/plain": [
       "(240, 320, 3)"
      ]
     },
     "execution_count": 220,
     "metadata": {},
     "output_type": "execute_result"
    }
   ],
   "source": [
    "resized_img.shape"
   ]
  },
  {
   "cell_type": "code",
   "execution_count": 221,
   "metadata": {},
   "outputs": [
    {
     "name": "stdout",
     "output_type": "stream",
     "text": [
      "2019-08-12 14:42:50.093295\n",
      "2019-08-12 14:42:51.334722\n"
     ]
    }
   ],
   "source": [
    "print(datetime.datetime.now())\n",
    "outputs = enet(inputs.unsqueeze(0))\n",
    "#npim = cv2.resize((outputs.squeeze(0).argmax(0)*255).numpy().astype(np.uint8), (80,60))\n",
    "#i = torch.from_numpy(npim)\n",
    "print(datetime.datetime.now())"
   ]
  },
  {
   "cell_type": "code",
   "execution_count": 222,
   "metadata": {},
   "outputs": [
    {
     "data": {
      "image/png": "[encoded data removed]",
      "text/plain": [
       "<PIL.Image.Image image mode=L size=320x240 at 0x136AF6CF8>"
      ]
     },
     "execution_count": 222,
     "metadata": {},
     "output_type": "execute_result"
    }
   ],
   "source": [
    "Image.fromarray((outputs.squeeze(0).argmax(0)*255).numpy().astype(np.uint8))"
   ]
  },
  {
   "cell_type": "code",
   "execution_count": 198,
   "metadata": {},
   "outputs": [],
   "source": [
    "npim = cv2.resize((outputs.squeeze(0).argmax(0)*255).numpy().astype(np.uint8), (80,60))"
   ]
  },
  {
   "cell_type": "code",
   "execution_count": 202,
   "metadata": {},
   "outputs": [
    {
     "data": {
      "image/png": "[encoded data removed]",
      "text/plain": [
       "<PIL.Image.Image image mode=L size=80x60 at 0x1099FB8D0>"
      ]
     },
     "execution_count": 202,
     "metadata": {},
     "output_type": "execute_result"
    }
   ],
   "source": [
    "Image.fromarray(npim)"
   ]
  },
  {
   "cell_type": "code",
   "execution_count": 223,
   "metadata": {},
   "outputs": [],
   "source": [
    "img = Image.open(\"/Users/karl/Downloads/1565732587156_watershed_mask.png\")"
   ]
  },
  {
   "cell_type": "code",
   "execution_count": 224,
   "metadata": {},
   "outputs": [],
   "source": [
    "img_np = np.asarray(img).astype(np.uint8)"
   ]
  },
  {
   "cell_type": "code",
   "execution_count": 226,
   "metadata": {},
   "outputs": [],
   "source": [
    "cv2.imshow(\"img\",img_np)"
   ]
  },
  {
   "cell_type": "code",
   "execution_count": 228,
   "metadata": {},
   "outputs": [
    {
     "data": {
      "text/plain": [
       "array([[[255, 255, 255],\n",
       "        [255, 255, 255],\n",
       "        [255, 255, 255],\n",
       "        ...,\n",
       "        [255, 255, 255],\n",
       "        [255, 255, 255],\n",
       "        [255, 255, 255]],\n",
       "\n",
       "       [[255, 255, 255],\n",
       "        [ 22,  22,  22],\n",
       "        [ 22,  22,  22],\n",
       "        ...,\n",
       "        [ 22,  22,  22],\n",
       "        [ 22,  22,  22],\n",
       "        [255, 255, 255]],\n",
       "\n",
       "       [[255, 255, 255],\n",
       "        [ 22,  22,  22],\n",
       "        [ 22,  22,  22],\n",
       "        ...,\n",
       "        [ 22,  22,  22],\n",
       "        [ 22,  22,  22],\n",
       "        [255, 255, 255]],\n",
       "\n",
       "       ...,\n",
       "\n",
       "       [[255, 255, 255],\n",
       "        [  7,   7,   7],\n",
       "        [  7,   7,   7],\n",
       "        ...,\n",
       "        [  7,   7,   7],\n",
       "        [  7,   7,   7],\n",
       "        [255, 255, 255]],\n",
       "\n",
       "       [[255, 255, 255],\n",
       "        [  7,   7,   7],\n",
       "        [  7,   7,   7],\n",
       "        ...,\n",
       "        [  7,   7,   7],\n",
       "        [  7,   7,   7],\n",
       "        [255, 255, 255]],\n",
       "\n",
       "       [[255, 255, 255],\n",
       "        [255, 255, 255],\n",
       "        [255, 255, 255],\n",
       "        ...,\n",
       "        [255, 255, 255],\n",
       "        [255, 255, 255],\n",
       "        [255, 255, 255]]], dtype=uint8)"
      ]
     },
     "execution_count": 228,
     "metadata": {},
     "output_type": "execute_result"
    }
   ],
   "source": [
    "img_np"
   ]
  },
  {
   "cell_type": "code",
   "execution_count": null,
   "metadata": {},
   "outputs": [],
   "source": []
  }
 ],
 "metadata": {
  "kernelspec": {
   "display_name": "Python 3",
   "language": "python",
   "name": "python3"
  },
  "language_info": {
   "codemirror_mode": {
    "name": "ipython",
    "version": 3
   },
   "file_extension": ".py",
   "mimetype": "text/x-python",
   "name": "python",
   "nbconvert_exporter": "python",
   "pygments_lexer": "ipython3",
   "version": "3.6.4"
  }
 },
 "nbformat": 4,
 "nbformat_minor": 2
}
